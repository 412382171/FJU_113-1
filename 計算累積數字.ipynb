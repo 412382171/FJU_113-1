{
  "nbformat": 4,
  "nbformat_minor": 0,
  "metadata": {
    "colab": {
      "provenance": [],
      "authorship_tag": "ABX9TyNzj/oE5UyXokAI+5yBtVQc",
      "include_colab_link": true
    },
    "kernelspec": {
      "name": "python3",
      "display_name": "Python 3"
    },
    "language_info": {
      "name": "python"
    }
  },
  "cells": [
    {
      "cell_type": "markdown",
      "metadata": {
        "id": "view-in-github",
        "colab_type": "text"
      },
      "source": [
        "<a href=\"https://colab.research.google.com/github/412382171/FJU_113-1/blob/main/%E8%A8%88%E7%AE%97%E7%B4%AF%E7%A9%8D%E6%95%B8%E5%AD%97.ipynb\" target=\"_parent\"><img src=\"https://colab.research.google.com/assets/colab-badge.svg\" alt=\"Open In Colab\"/></a>"
      ]
    },
    {
      "cell_type": "code",
      "execution_count": null,
      "metadata": {
        "id": "w2cdSOkAvaRo"
      },
      "outputs": [],
      "source": [
        "Q1=26295929"
      ]
    },
    {
      "cell_type": "code",
      "source": [
        "Q2=27668242"
      ],
      "metadata": {
        "id": "bp6fvTxivkE_"
      },
      "execution_count": null,
      "outputs": []
    },
    {
      "cell_type": "code",
      "source": [
        "Q3=27002293"
      ],
      "metadata": {
        "id": "tFMbwV-BvwAM"
      },
      "execution_count": null,
      "outputs": []
    },
    {
      "cell_type": "code",
      "source": [
        "Q4=28347871"
      ],
      "metadata": {
        "id": "QZ70kN1cv249"
      },
      "execution_count": null,
      "outputs": []
    },
    {
      "cell_type": "code",
      "source": [
        "acc_Q1 = Q1\n",
        "print(acc_Q1)"
      ],
      "metadata": {
        "colab": {
          "base_uri": "https://localhost:8080/"
        },
        "id": "7c7xK3zvv7m0",
        "outputId": "ece1e565-658f-4a6f-f228-b5911fc88e2d"
      },
      "execution_count": null,
      "outputs": [
        {
          "output_type": "stream",
          "name": "stdout",
          "text": [
            "26295929\n"
          ]
        }
      ]
    },
    {
      "cell_type": "code",
      "source": [
        "acc_Q2 = Q1 + Q2\n",
        "print(acc_Q2)"
      ],
      "metadata": {
        "colab": {
          "base_uri": "https://localhost:8080/"
        },
        "id": "NkK6d1y5wMe1",
        "outputId": "ee39bc2f-1da8-4836-c78e-a6b968415878"
      },
      "execution_count": null,
      "outputs": [
        {
          "output_type": "stream",
          "name": "stdout",
          "text": [
            "53964171\n"
          ]
        }
      ]
    },
    {
      "cell_type": "code",
      "source": [
        "acc_Q3 = Q1 + Q2 + Q3\n",
        "print(acc_Q3)"
      ],
      "metadata": {
        "colab": {
          "base_uri": "https://localhost:8080/"
        },
        "id": "5lw3nTB0wSOs",
        "outputId": "e5ada433-e63c-46d1-a85c-b086a880baf3"
      },
      "execution_count": null,
      "outputs": [
        {
          "output_type": "stream",
          "name": "stdout",
          "text": [
            "80966464\n"
          ]
        }
      ]
    },
    {
      "cell_type": "code",
      "source": [
        "acc_Q4 = Q1 + Q2 + Q3 + Q4\n",
        "print(acc_Q4)"
      ],
      "metadata": {
        "colab": {
          "base_uri": "https://localhost:8080/"
        },
        "id": "HYQiMkY4weh2",
        "outputId": "69166948-7eb7-43ce-93e7-0c003590dbf2"
      },
      "execution_count": null,
      "outputs": [
        {
          "output_type": "stream",
          "name": "stdout",
          "text": [
            "109314335\n"
          ]
        }
      ]
    },
    {
      "cell_type": "code",
      "source": [],
      "metadata": {
        "id": "lI1PWDOXwnS2"
      },
      "execution_count": null,
      "outputs": []
    }
  ]
}