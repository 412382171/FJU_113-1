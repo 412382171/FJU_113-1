{
  "nbformat": 4,
  "nbformat_minor": 0,
  "metadata": {
    "colab": {
      "provenance": [],
      "authorship_tag": "ABX9TyND6nvMEJ71DJ9IaR/14d5y",
      "include_colab_link": true
    },
    "kernelspec": {
      "name": "python3",
      "display_name": "Python 3"
    },
    "language_info": {
      "name": "python"
    }
  },
  "cells": [
    {
      "cell_type": "markdown",
      "metadata": {
        "id": "view-in-github",
        "colab_type": "text"
      },
      "source": [
        "<a href=\"https://colab.research.google.com/github/412382171/FJU_113-1/blob/main/%E7%94%A8Colab%E8%AE%80%E5%8F%96GitHub%E7%9A%84csv%E6%AA%94%E7%9A%84%E8%B3%87%E6%96%99.ipynb\" target=\"_parent\"><img src=\"https://colab.research.google.com/assets/colab-badge.svg\" alt=\"Open In Colab\"/></a>"
      ]
    },
    {
      "cell_type": "code",
      "execution_count": 1,
      "metadata": {
        "id": "ic9xZqLMi9UF"
      },
      "outputs": [],
      "source": [
        "import pandas as pd"
      ]
    },
    {
      "cell_type": "code",
      "source": [
        "url = \"https://raw.githubusercontent.com/412382171/FJU_113-1/main/2330and1216.csv\""
      ],
      "metadata": {
        "id": "L0twXDo5i_iD"
      },
      "execution_count": 2,
      "outputs": []
    },
    {
      "cell_type": "code",
      "source": [
        "df = pd.read_csv(url, index_col=0)"
      ],
      "metadata": {
        "id": "skil4H26jMwe"
      },
      "execution_count": 3,
      "outputs": []
    },
    {
      "cell_type": "code",
      "source": [
        "print(df.head(5))\n"
      ],
      "metadata": {
        "colab": {
          "base_uri": "https://localhost:8080/"
        },
        "id": "jhHJ33yBjSbF",
        "outputId": "c9c826e3-8bcc-4992-ea69-5c572a2b71d5"
      },
      "execution_count": 4,
      "outputs": [
        {
          "output_type": "stream",
          "name": "stdout",
          "text": [
            "                    YYYY/MM  Quarter consolidation  Month Currency  \\\n",
            "CO_ID                                                                \n",
            "2330 TSMC           2023/12        4             Y     12      NTD   \n",
            "1216 Uni-President  2023/12        4             Y     12      NTD   \n",
            "\n",
            "                    Total cash and cash equivalents  \\\n",
            "CO_ID                                                 \n",
            "2330 TSMC                                1465427753   \n",
            "1216 Uni-President                        100855846   \n",
            "\n",
            "                    Total current financial assets at fair value through profit or loss  \\\n",
            "CO_ID                                                                                     \n",
            "2330 TSMC                                                      924636                     \n",
            "1216 Uni-President                                           10324562                     \n",
            "\n",
            "                    Financial assets at fair value through other comprehensive income - Current  \\\n",
            "CO_ID                                                                                             \n",
            "2330 TSMC                                                   154530830                             \n",
            "1216 Uni-President                                                  0                             \n",
            "\n",
            "                    Financial assets measured at amortized cost - Current  \\\n",
            "CO_ID                                                                       \n",
            "2330 TSMC                                                    66761221       \n",
            "1216 Uni-President                                           16924454       \n",
            "\n",
            "                    Current financial assets for hedging  ...  \\\n",
            "CO_ID                                                     ...   \n",
            "2330 TSMC                                              0  ...   \n",
            "1216 Uni-President                                     0  ...   \n",
            "\n",
            "                    Preferred stock dividends  Diluted net income  \\\n",
            "CO_ID                                                               \n",
            "2330 TSMC                                   0           838497664   \n",
            "1216 Uni-President                          0            18336478   \n",
            "\n",
            "                    Total diluted earnings per share  \\\n",
            "CO_ID                                                  \n",
            "2330 TSMC                                         32   \n",
            "1216 Uni-President                                 3   \n",
            "\n",
            "                    Average diluted common shares (Thousand)  \\\n",
            "CO_ID                                                          \n",
            "2330 TSMC                                           25929267   \n",
            "1216 Uni-President                                   5708710   \n",
            "\n",
            "                    Earnings before interest and tax  \\\n",
            "CO_ID                                                  \n",
            "2330 TSMC                                  991170684   \n",
            "1216 Uni-President                          52181738   \n",
            "\n",
            "                    Earnings before interest, tax, depreciation and amortization  \\\n",
            "CO_ID                                                                              \n",
            "2330 TSMC                                                  1523361605              \n",
            "1216 Uni-President                                           90972681              \n",
            "\n",
            "                    Recurring net income  Treasury shares-buys back  \\\n",
            "CO_ID                                                                 \n",
            "2330 TSMC                      831702572                          0   \n",
            "1216 Uni-President              18996693                          0   \n",
            "\n",
            "                    Treasury shares-subsidiary holding  Total treasury shares  \n",
            "CO_ID                                                                          \n",
            "2330 TSMC                                            0                      0  \n",
            "1216 Uni-President                                   0                      0  \n",
            "\n",
            "[2 rows x 239 columns]\n"
          ]
        }
      ]
    },
    {
      "cell_type": "code",
      "source": [],
      "metadata": {
        "id": "WLdNB_YFjqgk"
      },
      "execution_count": null,
      "outputs": []
    }
  ]
}